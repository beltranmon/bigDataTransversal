{
 "cells": [
  {
   "cell_type": "markdown",
   "metadata": {},
   "source": [
    "# Adquisición de datos"
   ]
  },
  {
   "cell_type": "markdown",
   "metadata": {},
   "source": [
    "## Enunciado"
   ]
  },
  {
   "cell_type": "markdown",
   "metadata": {},
   "source": [
    "Desde la librería y editorial _____ nos han pedido que llevemos a cabo un proyecto utilizando tecnologías *Big Data* para poder mejorar en diversos aspectos en el mercado, creando un valor añadido en la compañia que genere así una ventaja sobre sus competidores."
   ]
  },
  {
   "cell_type": "markdown",
   "metadata": {},
   "source": [
    "Para este propósito te han pedido la realización de un listado de los libros más famosos de diversos géneros para que, analizando sus características básicas (como el género o el autor) podamos conocer qué factores hacen a estos libros despuntar sobre el resto."
   ]
  },
  {
   "cell_type": "markdown",
   "metadata": {},
   "source": [
    "Los objetivos que tiene la compañía son diversos:\n",
    " * Conocer los libros más demandados por los usuarios para mejorar el stock de sus librerías.\n",
    " * Identificar las razones que hacen a un libro recibir buenas valoraciones por parte de los usuarios.\n",
    " * Saber si el género o autor de un libro es determinante en las ventas del mismo.\n",
    " * ..."
   ]
  },
  {
   "cell_type": "markdown",
   "metadata": {},
   "source": [
    "Considerando estos factores, el primer objetivo es la adquisición de un set de datos con información sobre libros de distintos géneros para poder realizar posteriormente un análisis de estos datos."
   ]
  },
  {
   "cell_type": "markdown",
   "metadata": {},
   "source": [
    "## Práctica"
   ]
  },
  {
   "cell_type": "markdown",
   "metadata": {},
   "source": [
    "El objetivo de esta práctica es realizar un script que obtenga datos de libros de distintos géneros de la página web [goodreads](https://www.goodreads.com) para crear un set de datos formado por los libros más famosos de cada uno de los géneros recogidos en esta web que podrá utilizarse para un análisis y procesamiento en distintas asignaturas. "
   ]
  },
  {
   "cell_type": "markdown",
   "metadata": {},
   "source": [
    "La forma de llegar a estos libros desde la página principal es la siguiente:"
   ]
  },
  {
   "cell_type": "markdown",
   "metadata": {},
   "source": [
    "En el index de la página tenemos el siguiente bloque de información con el que podemos llegar a cada uno de los géneros:\n",
    "\n",
    "<img src='./img/goodreads_index.png'></img>\n"
   ]
  },
  {
   "cell_type": "markdown",
   "metadata": {},
   "source": [
    "Después, si queremos llegar a cada uno de los libros de cada género, tendremos que navegar dentro de una de estos enlace hasta la parte inferior: \n",
    "\n",
    "<img src='./img/goodreads_fantasy.png'></img>"
   ]
  },
  {
   "cell_type": "markdown",
   "metadata": {},
   "source": [
    "Para encontrarnos con los libros más famosos del género:\n",
    "\n",
    "<img src='./img/goodreads_fantasy_books.png'></img>"
   ]
  },
  {
   "cell_type": "markdown",
   "metadata": {},
   "source": [
    "Por otro lado, dentro de cada uno de los libros, queremos adquirir la siguiente información:\n",
    "    \n",
    "<img src='./img/goodreads_thefinalempire.png'></img>\n",
    "\n",
    "Además del **género** y la **url** de cada uno de los libros"
   ]
  },
  {
   "cell_type": "markdown",
   "metadata": {},
   "source": [
    "De esta forma, el resultado final de esta práctica será un dataset parecido al siguiente"
   ]
  },
  {
   "cell_type": "code",
   "execution_count": 7,
   "metadata": {},
   "outputs": [
    {
     "data": {
      "text/html": [
       "<div>\n",
       "<style scoped>\n",
       "    .dataframe tbody tr th:only-of-type {\n",
       "        vertical-align: middle;\n",
       "    }\n",
       "\n",
       "    .dataframe tbody tr th {\n",
       "        vertical-align: top;\n",
       "    }\n",
       "\n",
       "    .dataframe thead th {\n",
       "        text-align: right;\n",
       "    }\n",
       "</style>\n",
       "<table border=\"1\" class=\"dataframe\">\n",
       "  <thead>\n",
       "    <tr style=\"text-align: right;\">\n",
       "      <th></th>\n",
       "      <th>title</th>\n",
       "      <th>author</th>\n",
       "      <th>description</th>\n",
       "      <th>rating</th>\n",
       "      <th>ratingCount</th>\n",
       "      <th>reviewCount</th>\n",
       "      <th>genre</th>\n",
       "      <th>book_link</th>\n",
       "    </tr>\n",
       "  </thead>\n",
       "  <tbody>\n",
       "    <tr>\n",
       "      <th>0</th>\n",
       "      <td>Ways of Seeing</td>\n",
       "      <td>John Berger</td>\n",
       "      <td>John Berger’s Classic Text on ArtJohn Berger's...</td>\n",
       "      <td>3.87</td>\n",
       "      <td>262803</td>\n",
       "      <td>1636</td>\n",
       "      <td>art</td>\n",
       "      <td>https://www.goodreads.com/book/show/2784.Ways_...</td>\n",
       "    </tr>\n",
       "    <tr>\n",
       "      <th>1</th>\n",
       "      <td>The Story of Art</td>\n",
       "      <td>E.H. Gombrich</td>\n",
       "      <td>This text is the 16th revised and updated edit...</td>\n",
       "      <td>3.93</td>\n",
       "      <td>320492</td>\n",
       "      <td>957</td>\n",
       "      <td>art</td>\n",
       "      <td>https://www.goodreads.com/book/show/222078.The...</td>\n",
       "    </tr>\n",
       "    <tr>\n",
       "      <th>2</th>\n",
       "      <td>The New Drawing on the Right Side of the Brain</td>\n",
       "      <td>Betty Edwards</td>\n",
       "      <td>When Drawing on the Right Side of the Brain wa...</td>\n",
       "      <td>3.86</td>\n",
       "      <td>302244</td>\n",
       "      <td>834</td>\n",
       "      <td>art</td>\n",
       "      <td>https://www.goodreads.com/book/show/627206.The...</td>\n",
       "    </tr>\n",
       "    <tr>\n",
       "      <th>3</th>\n",
       "      <td>Steal Like an Artist 10 Things Nobody Told Yo...</td>\n",
       "      <td>Austin Kleon</td>\n",
       "      <td>You don’t need to be a genius, you just need t...</td>\n",
       "      <td>3.93</td>\n",
       "      <td>206572</td>\n",
       "      <td>5753</td>\n",
       "      <td>art</td>\n",
       "      <td>https://www.goodreads.com/book/show/13099738-s...</td>\n",
       "    </tr>\n",
       "    <tr>\n",
       "      <th>4</th>\n",
       "      <td>Wall and Piece</td>\n",
       "      <td>Banksy</td>\n",
       "      <td>Banksy, Britain's now-legendary \"guerilla\" str...</td>\n",
       "      <td>3.85</td>\n",
       "      <td>206106</td>\n",
       "      <td>880</td>\n",
       "      <td>art</td>\n",
       "      <td>https://www.goodreads.com/book/show/114683.Wal...</td>\n",
       "    </tr>\n",
       "    <tr>\n",
       "      <th>...</th>\n",
       "      <td>...</td>\n",
       "      <td>...</td>\n",
       "      <td>...</td>\n",
       "      <td>...</td>\n",
       "      <td>...</td>\n",
       "      <td>...</td>\n",
       "      <td>...</td>\n",
       "      <td>...</td>\n",
       "    </tr>\n",
       "    <tr>\n",
       "      <th>1395</th>\n",
       "      <td>Daughter of Smoke  Bone</td>\n",
       "      <td>Laini Taylor</td>\n",
       "      <td>Around the world, black hand prints are appear...</td>\n",
       "      <td>4.00</td>\n",
       "      <td>322665</td>\n",
       "      <td>29588</td>\n",
       "      <td>travel</td>\n",
       "      <td>https://www.goodreads.com/book/show/8490112-da...</td>\n",
       "    </tr>\n",
       "    <tr>\n",
       "      <th>1396</th>\n",
       "      <td>Six of Crows</td>\n",
       "      <td>Leigh Bardugo</td>\n",
       "      <td>Ketterdam: a bustling hub of international tra...</td>\n",
       "      <td>4.42</td>\n",
       "      <td>350675</td>\n",
       "      <td>42712</td>\n",
       "      <td>travel</td>\n",
       "      <td>https://www.goodreads.com/book/show/23437156-s...</td>\n",
       "    </tr>\n",
       "    <tr>\n",
       "      <th>1397</th>\n",
       "      <td>Scarlet</td>\n",
       "      <td>Marissa Meyer</td>\n",
       "      <td>Cinder returns in the second thrilling install...</td>\n",
       "      <td>4.27</td>\n",
       "      <td>323890</td>\n",
       "      <td>31153</td>\n",
       "      <td>travel</td>\n",
       "      <td>https://www.goodreads.com/book/show/13206760-s...</td>\n",
       "    </tr>\n",
       "    <tr>\n",
       "      <th>1398</th>\n",
       "      <td>Graceling</td>\n",
       "      <td>Kristin Cashore</td>\n",
       "      <td>Katsa has been able to kill a man with her bar...</td>\n",
       "      <td>4.07</td>\n",
       "      <td>396540</td>\n",
       "      <td>22549</td>\n",
       "      <td>travel</td>\n",
       "      <td>https://www.goodreads.com/book/show/3236307-gr...</td>\n",
       "    </tr>\n",
       "    <tr>\n",
       "      <th>1399</th>\n",
       "      <td>The Outsiders</td>\n",
       "      <td>S.E. Hinton</td>\n",
       "      <td>The Outsiders is about two weeks in the life o...</td>\n",
       "      <td>4.10</td>\n",
       "      <td>967691</td>\n",
       "      <td>34020</td>\n",
       "      <td>travel</td>\n",
       "      <td>https://www.goodreads.com/book/show/231804.The...</td>\n",
       "    </tr>\n",
       "  </tbody>\n",
       "</table>\n",
       "<p>1400 rows × 8 columns</p>\n",
       "</div>"
      ],
      "text/plain": [
       "                                                  title           author  \\\n",
       "0                                        Ways of Seeing      John Berger   \n",
       "1                                      The Story of Art    E.H. Gombrich   \n",
       "2        The New Drawing on the Right Side of the Brain    Betty Edwards   \n",
       "3      Steal Like an Artist 10 Things Nobody Told Yo...     Austin Kleon   \n",
       "4                                        Wall and Piece           Banksy   \n",
       "...                                                 ...              ...   \n",
       "1395                            Daughter of Smoke  Bone     Laini Taylor   \n",
       "1396                                       Six of Crows    Leigh Bardugo   \n",
       "1397                                            Scarlet    Marissa Meyer   \n",
       "1398                                          Graceling  Kristin Cashore   \n",
       "1399                                      The Outsiders      S.E. Hinton   \n",
       "\n",
       "                                            description rating ratingCount  \\\n",
       "0     John Berger’s Classic Text on ArtJohn Berger's...   3.87      262803   \n",
       "1     This text is the 16th revised and updated edit...   3.93      320492   \n",
       "2     When Drawing on the Right Side of the Brain wa...   3.86      302244   \n",
       "3     You don’t need to be a genius, you just need t...   3.93      206572   \n",
       "4     Banksy, Britain's now-legendary \"guerilla\" str...   3.85      206106   \n",
       "...                                                 ...    ...         ...   \n",
       "1395  Around the world, black hand prints are appear...   4.00      322665   \n",
       "1396  Ketterdam: a bustling hub of international tra...   4.42      350675   \n",
       "1397  Cinder returns in the second thrilling install...   4.27      323890   \n",
       "1398  Katsa has been able to kill a man with her bar...   4.07      396540   \n",
       "1399  The Outsiders is about two weeks in the life o...   4.10      967691   \n",
       "\n",
       "     reviewCount   genre                                          book_link  \n",
       "0           1636     art  https://www.goodreads.com/book/show/2784.Ways_...  \n",
       "1            957     art  https://www.goodreads.com/book/show/222078.The...  \n",
       "2            834     art  https://www.goodreads.com/book/show/627206.The...  \n",
       "3           5753     art  https://www.goodreads.com/book/show/13099738-s...  \n",
       "4            880     art  https://www.goodreads.com/book/show/114683.Wal...  \n",
       "...          ...     ...                                                ...  \n",
       "1395       29588  travel  https://www.goodreads.com/book/show/8490112-da...  \n",
       "1396       42712  travel  https://www.goodreads.com/book/show/23437156-s...  \n",
       "1397       31153  travel  https://www.goodreads.com/book/show/13206760-s...  \n",
       "1398       22549  travel  https://www.goodreads.com/book/show/3236307-gr...  \n",
       "1399       34020  travel  https://www.goodreads.com/book/show/231804.The...  \n",
       "\n",
       "[1400 rows x 8 columns]"
      ]
     },
     "execution_count": 7,
     "metadata": {},
     "output_type": "execute_result"
    }
   ],
   "source": [
    "datos"
   ]
  },
  {
   "cell_type": "markdown",
   "metadata": {},
   "source": [
    "Y se tendrá que almacenar en un archivo .csv"
   ]
  },
  {
   "cell_type": "markdown",
   "metadata": {},
   "source": [
    "Los pasos para la resolución de esta práctica serán los siguientes:\n",
    "\n",
    " 1. Programar 3 Spiders que cogeran primero las urls de los géneros, después las de 'More ___ Books', y por último la url de cada libro.\n",
    "\n",
    " 2. Crear un Scrapper que tendrá que coger en el html la información señalada anteriormente.\n",
    "\n",
    " 3. *Parsear los datos con las funciones de RegEx dadas para que cada dato sea tratable de forma sencilla."
   ]
  },
  {
   "cell_type": "markdown",
   "metadata": {},
   "source": [
    "*Códigos para parsear los datos. Se usará la librería 'Pandas'"
   ]
  },
  {
   "cell_type": "code",
   "execution_count": 5,
   "metadata": {},
   "outputs": [],
   "source": [
    "import pandas as pd\n",
    "\n",
    "headers = ['title', 'author', 'description', 'rating', 'ratingCount', 'reviewCount', 'genre', 'book_link']\n",
    "\n",
    "datos = pd.DataFrame(books, columns=headers)"
   ]
  },
  {
   "cell_type": "code",
   "execution_count": null,
   "metadata": {},
   "outputs": [],
   "source": [
    "datos['title'].replace(to_replace='[ ](?=[ ])|[^-_,A-Za-z0-9 ]+', value='',inplace=True,regex=True)\n",
    "datos['rating'].replace(to_replace='[^0-9\\.]+', value='',inplace=True,regex=True)\n",
    "datos['ratingCount'].replace(to_replace='[^0-9]+', value='',inplace=True,regex=True)\n",
    "datos['reviewCount'].replace(to_replace='[^0-9]+', value='',inplace=True,regex=True)"
   ]
  },
  {
   "cell_type": "code",
   "execution_count": 5,
   "metadata": {},
   "outputs": [],
   "source": [
    "datos['title'] = datos['title'].str.replace(';',',')\n",
    "datos['author'] = datos['author'].str.replace(';',',')\n",
    "datos['description'] = datos['description'].str.replace(';',',')"
   ]
  },
  {
   "cell_type": "code",
   "execution_count": 6,
   "metadata": {},
   "outputs": [],
   "source": [
    "datos.to_csv('data/books.csv', sep=';', index=False)"
   ]
  },
  {
   "cell_type": "markdown",
   "metadata": {},
   "source": [
    "<hr>"
   ]
  },
  {
   "cell_type": "markdown",
   "metadata": {},
   "source": [
    "## Código"
   ]
  },
  {
   "cell_type": "code",
   "execution_count": 2,
   "metadata": {},
   "outputs": [],
   "source": [
    "import requests\n",
    "import csv\n",
    "import time\n",
    "import pandas as pd\n",
    "import re\n",
    "\n",
    "from bs4 import BeautifulSoup"
   ]
  },
  {
   "cell_type": "code",
   "execution_count": 2,
   "metadata": {},
   "outputs": [],
   "source": [
    "url = \"https://www.goodreads.com\"\n",
    "response = requests.get(url)\n",
    "soup = BeautifulSoup(response.content, \"html.parser\")\n",
    "tags = soup.find('div', class_=\"u-defaultType\").find_all('a')\n",
    "links = [url + tag.get('href') for tag in tags if tag.text != 'More genres']"
   ]
  },
  {
   "cell_type": "code",
   "execution_count": 24,
   "metadata": {},
   "outputs": [],
   "source": [
    "shelves = []\n",
    "\n",
    "for link in links:\n",
    "    response = requests.get(link)\n",
    "    time.sleep(1)\n",
    "    soup = BeautifulSoup(response.content, \"html.parser\")\n",
    "    shelf_link = url + soup.find_all('div', class_=\"moreLink\")[-1].find('a').get('href')\n",
    "    if '/shelf/show/' in shelf_link:\n",
    "        shelves.append(shelf_link)"
   ]
  },
  {
   "cell_type": "code",
   "execution_count": null,
   "metadata": {},
   "outputs": [],
   "source": [
    "all_books = []\n",
    "\n",
    "for shelf in shelves:\n",
    "    response = requests.get(shelf)\n",
    "    time.sleep(1)\n",
    "    soup = BeautifulSoup(response.content, \"html.parser\")\n",
    "    books_div = soup.find('div', class_=\"leftContainer\").find_all('div', class_=\"elementList\")\n",
    "    books = [url + book.find('div', class_=\"left\").find('a', class_=\"leftAlignedImage\").get('href') for book in books_div]\n",
    "    all_books.append(books)"
   ]
  },
  {
   "cell_type": "code",
   "execution_count": null,
   "metadata": {
    "scrolled": true
   },
   "outputs": [],
   "source": [
    "books = []\n",
    "for genre_books,genre_link in zip(all_books, links):\n",
    "    genre = genre_link.split('/')[-1]\n",
    "    for book_link in genre_books:\n",
    "        print(book_link)\n",
    "        response = requests.get(book_link)\n",
    "        time.sleep(1)\n",
    "        soup = BeautifulSoup(response.content, \"html.parser\")\n",
    "        title = soup.find(id = \"bookTitle\").text if soup.find(id = \"bookTitle\") != None else None\n",
    "        author = soup.find('a', class_=\"authorName\").text if soup.find('a', class_=\"authorName\") != None else None\n",
    "        description = soup.find(id = \"description\").find_all('span')[-1].text if soup.find(id = \"description\") != None else None\n",
    "        bookMeta = soup.find('div', id=\"bookMeta\")\n",
    "        rating = bookMeta.find('span', itemprop=\"ratingValue\").text if bookMeta.find('span', itemprop=\"ratingValue\") != None else None\n",
    "        ratingCount = bookMeta.find('meta', itemprop=\"ratingCount\").text if bookMeta.find('meta', itemprop=\"ratingCount\") != None else None\n",
    "        reviewCount = bookMeta.find('meta', itemprop=\"reviewCount\").text if bookMeta.find('meta', itemprop=\"reviewCount\") != None else None\n",
    "        book_info = [title, author, description, rating, ratingCount, reviewCount, genre, book_link]\n",
    "        books.append(book_info)"
   ]
  },
  {
   "cell_type": "code",
   "execution_count": 6,
   "metadata": {},
   "outputs": [],
   "source": [
    "headers = ['title', 'author', 'description', 'rating', 'ratingCount', 'reviewCount', 'genre', 'book_link']\n",
    "\n",
    "datos = pd.DataFrame(books, columns=headers)\n",
    "\n",
    "datos['title'].replace(to_replace='[ ](?=[ ])|[^-_,A-Za-z0-9 ]+', value='',inplace=True,regex=True)\n",
    "datos['rating'].replace(to_replace='[^0-9\\.]+', value='',inplace=True,regex=True)\n",
    "datos['ratingCount'].replace(to_replace='[^0-9]+', value='',inplace=True,regex=True)\n",
    "datos['reviewCount'].replace(to_replace='[^0-9]+', value='',inplace=True,regex=True)"
   ]
  },
  {
   "cell_type": "code",
   "execution_count": 7,
   "metadata": {},
   "outputs": [],
   "source": [
    "datos['title'] = datos['title'].str.replace(',',';')\n",
    "datos['author'] = datos['author'].str.replace(',',';')\n",
    "datos['description'] = datos['description'].str.replace(',',';')"
   ]
  },
  {
   "cell_type": "code",
   "execution_count": 9,
   "metadata": {},
   "outputs": [],
   "source": [
    "datos.to_csv('data/books.csv', sep=',', index=False)"
   ]
  },
  {
   "cell_type": "code",
   "execution_count": 6,
   "metadata": {},
   "outputs": [
    {
     "data": {
      "text/plain": [
       "1400"
      ]
     },
     "execution_count": 6,
     "metadata": {},
     "output_type": "execute_result"
    }
   ],
   "source": [
    "len(books)"
   ]
  },
  {
   "cell_type": "code",
   "execution_count": null,
   "metadata": {},
   "outputs": [],
   "source": [
    "with open('data/parrot.pkl', 'wb') as f:\n",
    "    pickle.dump(books, f)"
   ]
  },
  {
   "cell_type": "code",
   "execution_count": 5,
   "metadata": {},
   "outputs": [],
   "source": [
    "import pickle\n",
    "\n",
    "# Carga de la variable final del filtrado\\n\",\n",
    "with open('data/parrot.pkl', 'rb') as filehandle:\n",
    "    # read the data as binary data stream\\n\",\n",
    "    books = pickle.load(filehandle)"
   ]
  }
 ],
 "metadata": {
  "kernelspec": {
   "display_name": "Python 3",
   "language": "python",
   "name": "python3"
  },
  "language_info": {
   "codemirror_mode": {
    "name": "ipython",
    "version": 3
   },
   "file_extension": ".py",
   "mimetype": "text/x-python",
   "name": "python",
   "nbconvert_exporter": "python",
   "pygments_lexer": "ipython3",
   "version": "3.8.3"
  }
 },
 "nbformat": 4,
 "nbformat_minor": 4
}
